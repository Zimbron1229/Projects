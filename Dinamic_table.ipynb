{
 "cells": [
  {
   "cell_type": "code",
   "execution_count": 1,
   "metadata": {},
   "outputs": [],
   "source": [
    "import pandas as pd\n",
    "import numpy as np\n",
    "mainpath = r\"C:\\Users\\danie\\Desktop\\Case_Data_Analyst - Sheet1.csv\"\n",
    "df = pd.read_csv(mainpath)\n",
    "new = df[\"contact_creation\"].str.split(\"/\",expand = True) \n",
    "df['Year']= new[2]\n",
    "df['Month']= new[1].astype(int)\n",
    "df['Day']= new[0].astype(int)\n",
    "df['Month'] = np.where(df['Month'] <= 9, \"0\" + df['Month'].astype(str),df['Month'].astype(str))\n",
    "df['Day'] = np.where(df['Day'] <= 9, \"0\" + df['Day'].astype(str),df['Day'].astype(str))\n",
    "df['Date_adj'] = np.where(df['Month'] == '05',df['Year'] + '/' + df['Month'] + '/' + df['Day'], \n",
    "                          df['Year'] + '/' + df['Day'] + '/' + df['Month'])\n",
    "df.to_csv(r\"C:\\Users\\danie\\Desktop\\fix_table.csv\")\n",
    "df['Concat'] = df['course_name'] + '-' + df['student_id']\n",
    "df = df.sort_values([\"course_name\",\"student_id\",\"Week_after_creation\",\"% accumulated progress in the course\"], \n",
    "                    ascending = (False,False,False,False))\n",
    "df = df.drop_duplicates(subset='Concat', keep=\"first\")\n",
    "df['Status'] = np.where(((df['% accumulated progress in the course'].astype(float) == 1)),'Complete','Incomplete')\n",
    "df = df[(df['Week_after_creation'] == 12) | (df['% accumulated progress in the course'].astype(float) == 1)]\n",
    "df1 = df.groupby((['course_name','Status'])).agg({'Status': 'count'})\n",
    "df2 = df1.groupby(level=0).apply(lambda x: 100 * x / float(x.sum()))\n",
    "df2\n",
    "df2.to_csv(r\"C:\\Users\\danie\\Desktop\\resume.csv\")"
   ]
  }
 ],
 "metadata": {
  "kernelspec": {
   "display_name": "Python 3",
   "language": "python",
   "name": "python3"
  },
  "language_info": {
   "codemirror_mode": {
    "name": "ipython",
    "version": 3
   },
   "file_extension": ".py",
   "mimetype": "text/x-python",
   "name": "python",
   "nbconvert_exporter": "python",
   "pygments_lexer": "ipython3",
   "version": "3.8.3"
  }
 },
 "nbformat": 4,
 "nbformat_minor": 4
}
