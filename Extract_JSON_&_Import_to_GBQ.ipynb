{
  "nbformat": 4,
  "nbformat_minor": 0,
  "metadata": {
    "colab": {
      "name": "Extract JSON & Import to GBQ.ipynb",
      "provenance": []
    },
    "kernelspec": {
      "name": "python3",
      "display_name": "Python 3"
    }
  },
  "cells": [
    {
      "cell_type": "code",
      "metadata": {
        "id": "N7W2UKFfcR5-"
      },
      "source": [
        "from google.colab import drive\n",
        "drive.mount('/content/drive')\n",
        "import pandas as pd\n",
        "from pandas.io import gbq\n",
        "\n",
        "files_name = '/content/drive/My Drive/***s/***.json'\n",
        "files = pd.read_json(files_name, lines=True)\n",
        "files1 = files[['ColumnN\",\"ColumnN,...]]\n",
        "location_calle = []\n",
        "for location in files['***']:\n",
        "    location_calle.append(location['***'])\n",
        "files1[\"***\"] = location_calle\n",
        "files1.columns = ['ColumnN\",\"ColumnN,...]\n",
        "files1 = files1.sort_values('***', ascending=False)\n",
        "files1 = files1.drop_duplicates(subset='***', keep='last')\n",
        "files1.to_gbq(destination_table= \"***\",project_id='***',if_exists='fail')"
      ],
      "execution_count": null,
      "outputs": []
    }
  ]
}