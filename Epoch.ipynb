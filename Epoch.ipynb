{
 "cells": [
  {
   "cell_type": "code",
   "execution_count": 4,
   "metadata": {},
   "outputs": [],
   "source": [
    "import pandas as pd\n",
    "mainpath = r\"C:\\Users\\danie\\Desktop\\epoch.csv\"\n",
    "df = pd.read_csv(mainpath)\n",
    "df['epoch'].replace({\"D\": \"0\"}, inplace=True)\n",
    "df['Date_and_Time'] = pd.to_datetime(df['epoch'], origin='unix', unit='ms')\n",
    "df.to_csv(r\"C:\\Users\\danie\\Desktop\\epoch_1.csv\")"
   ]
  },
  {
   "cell_type": "code",
   "execution_count": null,
   "metadata": {},
   "outputs": [],
   "source": []
  }
 ],
 "metadata": {
  "kernelspec": {
   "display_name": "Python 3",
   "language": "python",
   "name": "python3"
  },
  "language_info": {
   "codemirror_mode": {
    "name": "ipython",
    "version": 3
   },
   "file_extension": ".py",
   "mimetype": "text/x-python",
   "name": "python",
   "nbconvert_exporter": "python",
   "pygments_lexer": "ipython3",
   "version": "3.8.3"
  }
 },
 "nbformat": 4,
 "nbformat_minor": 4
}
