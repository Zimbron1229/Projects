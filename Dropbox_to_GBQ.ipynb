{
  "nbformat": 4,
  "nbformat_minor": 0,
  "metadata": {
    "colab": {
      "name": "Dropbox to GBQ.ipynb",
      "provenance": [],
      "collapsed_sections": []
    },
    "kernelspec": {
      "name": "python3",
      "display_name": "Python 3"
    }
  },
  "cells": [
    {
      "cell_type": "code",
      "metadata": {
        "id": "2cUnD_hcX8Zp"
      },
      "source": [
        "def reporte():\n",
        "  !pip install dropbox\n",
        "  import dropbox\n",
        "  import pandas as pd\n",
        "  from google.colab import drive\n",
        "  drive.mount('/content/drive')\n",
        "  import csv\n",
        "  from pandas.io import gbq\n",
        "  from os import listdir\n",
        "  from os.path import isfile, join\n",
        "  import os, sys\n",
        "  import datetime\n",
        "  from datetime import datetime\n",
        "\n",
        "  ACCESS_TOKEN = \"****\"\n",
        "\n",
        "  dbx = dropbox.Dropbox(ACCESS_TOKEN)\n",
        "  date = datetime.today().strftime('%Y%m%d')\n",
        "  org = input(\"Introduce la dirección completa la carpeta origen: \")\n",
        "\n",
        "  response = dbx.files_list_folder(org)\n",
        "  data = {}\n",
        "  data1 = pd.DataFrame(data)\n",
        "  for i in response.entries:\n",
        "      path = org + \"/\" + i.name\n",
        "      _, res = dbx.files_download(path)\n",
        "      p = pd.read_csv(res.raw,header=None,error_bad_lines=False)\n",
        "      p.columns = [\"Column1\",\"Column2\",\"Column2\",\"ColumnN\"]\n",
        "      temp = pd.DataFrame(p)\n",
        "      data1 = pd.concat([data1,temp], axis = 0)\n",
        "      \n",
        "  data1[\"Cuc\"]= data1[\"Cuc\"].astype(str)\n",
        "  data1[\"X1\"]= data1[\"X1\"].str.replace(\"[\", \"\").str.replace(\" \", \"\")\n",
        "  data1[\"Y2\"]= data1[\"Y2\"].str.replace(\"]\", \"\")\n",
        "  data1['Epoch'].replace({\"D\": \"0\"}, inplace=True)\n",
        "  data1['Date_and_Time'] = pd.to_datetime(data1['Epoch'], origin='unix', unit='ms')\n",
        "  data1[\"Fecha\"] = pd.to_datetime(data1['Date_and_Time']).dt.normalize()\n",
        "  data1.to_gbq(destination_table= \"****.***\" + date ,project_id='****',if_exists='fail')"
      ],
      "execution_count": null,
      "outputs": []
    }
  ]
}