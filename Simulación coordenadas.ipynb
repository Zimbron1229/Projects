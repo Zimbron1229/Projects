{
 "cells": [
  {
   "cell_type": "code",
   "execution_count": 5,
   "metadata": {},
   "outputs": [],
   "source": [
    "import pandas as pd\n",
    "import numpy as np\n",
    "import random as rn"
   ]
  },
  {
   "cell_type": "code",
   "execution_count": null,
   "metadata": {},
   "outputs": [],
   "source": [
    "ruta = pd.read_csv(r\"C:\\Users\\danie\\Desktop\\***.csv\")\n",
    "ruta.head()"
   ]
  },
  {
   "cell_type": "code",
   "execution_count": 16,
   "metadata": {},
   "outputs": [],
   "source": [
    "def dca(x,n):\n",
    "    rt = x.loc[x.index.repeat(n)]\n",
    "    id = [] \n",
    "    randomx = []\n",
    "    randomy = []\n",
    "\n",
    "    for i in range(len(rt)):\n",
    "        id.append(i)\n",
    "        randomx.append(rn.uniform(0.0004,0.0009))\n",
    "        randomy.append(rn.uniform(0.0004,0.0009))\n",
    "        \n",
    "    \n",
    "    rt[\"Longitude\"] = rt[\"CORD X\"] + randomx\n",
    "    rt[\"Latitude\"] = rt[\"CORD Y\"] + randomy\n",
    "  \n",
    "    subrt = rt[[\"Region\",\"PROG LEALTAD\",\"Territorio\",\"Bodega\",\"Clave Cedis\",\"Clave Ruta\",\n",
    "                \"Cuc\",\"Nud\",\"Nom_Cliente\",\"Direccion\",\"Num Enfriadores SUM\",\"Num Visitas SUM\",\n",
    "                \"Frecuencia Visita\",\"Longitude\",\"Latitude\",\"Grupo Ruta Preventa\",\"Enfriadores\",\n",
    "                \"Num Puertas SUM\",\"PROMORACK\",\"EBRACK\",\"MEJOR JUNTOS\",\"Cuartos_Frios\",\"Segmento_Cliente\",\n",
    "                \"Cm_Promo_Refri\",\"Clave_Ruta_Desarrollo\",\"CLASIFICACION_RUTA\"]]\n",
    "    subrt.to_csv(r\"C:\\Users\\danie\\Desktop\\Rutas_p.csv\", index=False)\n",
    "    return subrt.head(10)"
   ]
  }
 ],
 "metadata": {
  "kernelspec": {
   "display_name": "Python 3",
   "language": "python",
   "name": "python3"
  },
  "language_info": {
   "codemirror_mode": {
    "name": "ipython",
    "version": 3
   },
   "file_extension": ".py",
   "mimetype": "text/x-python",
   "name": "python",
   "nbconvert_exporter": "python",
   "pygments_lexer": "ipython3",
   "version": "3.8.3"
  }
 },
 "nbformat": 4,
 "nbformat_minor": 4
}
